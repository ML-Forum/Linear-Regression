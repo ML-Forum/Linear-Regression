{
 "cells": [
  {
   "cell_type": "code",
   "execution_count": 9,
   "metadata": {},
   "outputs": [],
   "source": [
    "import math\n",
    "import pandas as pd\n",
    "import numpy as np\n",
    "import matplotlib.pyplot as plt"
   ]
  },
  {
   "cell_type": "code",
   "execution_count": 10,
   "metadata": {},
   "outputs": [
    {
     "data": {
      "text/plain": [
       "2050"
      ]
     },
     "execution_count": 10,
     "metadata": {},
     "output_type": "execute_result"
    }
   ],
   "source": [
    "df = pd.read_csv('/home/kushal/Downloads/ML dataset/Simple_linear_regression.csv')\n",
    "df['SAT'].max()"
   ]
  },
  {
   "cell_type": "code",
   "execution_count": 11,
   "metadata": {},
   "outputs": [],
   "source": [
    "def grd(x,y):\n",
    "    m=b=0\n",
    "    it = 0\n",
    "    lr = 0.0000002\n",
    "    n = len(x)\n",
    "    pr = 1000\n",
    "    while it<100 :\n",
    "        y_p = m*x + b\n",
    "        cost = (1/n) * sum([val**2 for val in (y-y_p)])\n",
    "        md = -(2/n)*sum(x*(y-y_p))\n",
    "        bd = -(2/n)*sum(y-y_p)\n",
    "        m = m - lr * md\n",
    "        b = b - lr * bd \n",
    "        it = it+1\n",
    "#         print(\"m {}, b {}, cost {} iteration {}\".format(m,b,cost,it))\n",
    "#         if math.isclose(pr, cost, rel_tol=1e-6, abs_tol=0.0):\n",
    "#             break\n",
    "#         else:\n",
    "#             pr = cost \n",
    "        plt.plot(x,y_p,color='blue')\n",
    "        "
   ]
  },
  {
   "cell_type": "code",
   "execution_count": 12,
   "metadata": {},
   "outputs": [
    {
     "data": {
      "text/plain": [
       "[<matplotlib.lines.Line2D at 0x7f3f8bd0b1d0>]"
      ]
     },
     "execution_count": 12,
     "metadata": {},
     "output_type": "execute_result"
    },
    {
     "data": {
      "image/png": "[encoded data removed]",
      "text/plain": [
       "<Figure size 432x288 with 1 Axes>"
      ]
     },
     "metadata": {
      "needs_background": "light"
     },
     "output_type": "display_data"
    }
   ],
   "source": [
    "x = np.array(df.SAT)\n",
    "y = np.array(df.GPA)\n",
    "grd(x,y)\n",
    "plt.plot(x,y,color='red')"
   ]
  },
  {
   "cell_type": "code",
   "execution_count": null,
   "metadata": {},
   "outputs": [],
   "source": []
  }
 ],
 "metadata": {
  "kernelspec": {
   "display_name": "Python 3",
   "language": "python",
   "name": "python3"
  },
  "language_info": {
   "codemirror_mode": {
    "name": "ipython",
    "version": 3
   },
   "file_extension": ".py",
   "mimetype": "text/x-python",
   "name": "python",
   "nbconvert_exporter": "python",
   "pygments_lexer": "ipython3",
   "version": "3.6.8"
  }
 },
 "nbformat": 4,
 "nbformat_minor": 2
}
