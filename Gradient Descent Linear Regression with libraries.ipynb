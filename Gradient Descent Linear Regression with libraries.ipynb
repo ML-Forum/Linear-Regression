{
 "cells": [
  {
   "cell_type": "code",
   "execution_count": 1,
   "metadata": {},
   "outputs": [],
   "source": [
    "import math\n",
    "import pandas as pd\n",
    "import numpy as np\n",
    "import matplotlib.pyplot as plt"
   ]
  },
  {
   "cell_type": "code",
   "execution_count": 18,
   "metadata": {},
   "outputs": [],
   "source": [
    "df = pd.read_csv('/home/kushal/Downloads/ML dataset/Simple_linear_regression.csv')\n",
    "df['SAT'].max()\n",
    "x = df.iloc[:,[0]]\n",
    "y = df.iloc[:,[1]]"
   ]
  },
  {
   "cell_type": "code",
   "execution_count": 19,
   "metadata": {},
   "outputs": [
    {
     "data": {
      "text/plain": [
       "(54, 1)"
      ]
     },
     "execution_count": 19,
     "metadata": {},
     "output_type": "execute_result"
    }
   ],
   "source": [
    "from sklearn.linear_model import LinearRegression\n",
    "from sklearn.model_selection import train_test_split\n",
    "x_train, x_test, y_train, y_test = train_test_split(x,y,train_size = 0.65)\n",
    "x_train.shape"
   ]
  },
  {
   "cell_type": "code",
   "execution_count": 20,
   "metadata": {},
   "outputs": [
    {
     "data": {
      "text/plain": [
       "LinearRegression(copy_X=True, fit_intercept=True, n_jobs=None, normalize=False)"
      ]
     },
     "execution_count": 20,
     "metadata": {},
     "output_type": "execute_result"
    }
   ],
   "source": [
    "reg = LinearRegression()\n",
    "reg.fit(x_train,y_train)"
   ]
  },
  {
   "cell_type": "code",
   "execution_count": 21,
   "metadata": {},
   "outputs": [
    {
     "data": {
      "text/plain": [
       "array([[3.64844776],\n",
       "       [3.61571037],\n",
       "       [3.47330273],\n",
       "       [3.06572226],\n",
       "       [3.20976676],\n",
       "       [3.2130405 ],\n",
       "       [3.54696186],\n",
       "       [3.34726379],\n",
       "       [3.23268294],\n",
       "       [3.34399005],\n",
       "       [3.0477167 ],\n",
       "       [3.07881721],\n",
       "       [3.2932471 ],\n",
       "       [3.04116922],\n",
       "       [3.42910726],\n",
       "       [3.02971113],\n",
       "       [3.19503494],\n",
       "       [3.29652084],\n",
       "       [3.09354904],\n",
       "       [3.30470519],\n",
       "       [3.57642551],\n",
       "       [3.56005681],\n",
       "       [3.51913508],\n",
       "       [3.35381127],\n",
       "       [3.2130405 ],\n",
       "       [3.19012433],\n",
       "       [3.25723598],\n",
       "       [3.52240882],\n",
       "       [3.36035875],\n",
       "       [3.53877751]])"
      ]
     },
     "execution_count": 21,
     "metadata": {},
     "output_type": "execute_result"
    }
   ],
   "source": [
    "reg.predict(x_test)"
   ]
  },
  {
   "cell_type": "code",
   "execution_count": 22,
   "metadata": {},
   "outputs": [
    {
     "data": {
      "text/plain": [
       "array([[3.64844776],\n",
       "       [3.61571037],\n",
       "       [3.47330273],\n",
       "       [3.06572226],\n",
       "       [3.20976676],\n",
       "       [3.2130405 ],\n",
       "       [3.54696186],\n",
       "       [3.34726379],\n",
       "       [3.23268294],\n",
       "       [3.34399005],\n",
       "       [3.0477167 ],\n",
       "       [3.07881721],\n",
       "       [3.2932471 ],\n",
       "       [3.04116922],\n",
       "       [3.42910726],\n",
       "       [3.02971113],\n",
       "       [3.19503494],\n",
       "       [3.29652084],\n",
       "       [3.09354904],\n",
       "       [3.30470519],\n",
       "       [3.57642551],\n",
       "       [3.56005681],\n",
       "       [3.51913508],\n",
       "       [3.35381127],\n",
       "       [3.2130405 ],\n",
       "       [3.19012433],\n",
       "       [3.25723598],\n",
       "       [3.52240882],\n",
       "       [3.36035875],\n",
       "       [3.53877751]])"
      ]
     },
     "execution_count": 22,
     "metadata": {},
     "output_type": "execute_result"
    }
   ],
   "source": [
    "reg.predict(x_test)"
   ]
  },
  {
   "cell_type": "code",
   "execution_count": null,
   "metadata": {},
   "outputs": [],
   "source": []
  }
 ],
 "metadata": {
  "kernelspec": {
   "display_name": "Python 3",
   "language": "python",
   "name": "python3"
  },
  "language_info": {
   "codemirror_mode": {
    "name": "ipython",
    "version": 3
   },
   "file_extension": ".py",
   "mimetype": "text/x-python",
   "name": "python",
   "nbconvert_exporter": "python",
   "pygments_lexer": "ipython3",
   "version": "3.6.8"
  }
 },
 "nbformat": 4,
 "nbformat_minor": 2
}
